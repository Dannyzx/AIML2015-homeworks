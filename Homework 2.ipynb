{
 "cells": [
  {
   "cell_type": "markdown",
   "metadata": {},
   "source": [
    "NAME : Danny"
   ]
  },
  {
   "cell_type": "markdown",
   "metadata": {},
   "source": [
    "SURNAME : D'Agostino"
   ]
  },
  {
   "cell_type": "markdown",
   "metadata": {},
   "source": [
    "NUMBER : 1247958"
   ]
  },
  {
   "cell_type": "markdown",
   "metadata": {},
   "source": [
    "\\vspace{5mm}"
   ]
  },
  {
   "cell_type": "markdown",
   "metadata": {},
   "source": [
    "\\vspace{5mm}"
   ]
  },
  {
   "cell_type": "markdown",
   "metadata": {},
   "source": [
    "\\vspace{5mm}"
   ]
  },
  {
   "cell_type": "markdown",
   "metadata": {},
   "source": [
    "\\vspace{5mm}"
   ]
  },
  {
   "cell_type": "code",
   "execution_count": 2,
   "metadata": {},
   "outputs": [],
   "source": [
    "%matplotlib inline\n",
    "from __future__ import division\n",
    "from mlxtend.evaluate import plot_decision_regions\n",
    "from sklearn.datasets import fetch_mldata\n",
    "from sklearn.grid_search import GridSearchCV\n",
    "from sklearn import preprocessing\n",
    "from sklearn.cross_validation import train_test_split\n",
    "from sklearn.multiclass import OneVsRestClassifier\n",
    "from sklearn.svm import LinearSVC\n",
    "from sklearn.svm import SVC\n",
    "from sklearn.decomposition import PCA\n",
    "from timeit import default_timer as timer\n",
    "from matplotlib import cm\n",
    "import matplotlib.pyplot as plt\n",
    "import numpy as np\n",
    "import pandas as pd\n",
    "import seaborn as sns"
   ]
  },
  {
   "cell_type": "markdown",
   "metadata": {},
   "source": [
    "\\vspace{5mm}"
   ]
  },
  {
   "cell_type": "markdown",
   "metadata": {},
   "source": [
    "Loading the dataset:"
   ]
  },
  {
   "cell_type": "code",
   "execution_count": 3,
   "metadata": {},
   "outputs": [],
   "source": [
    "mnist = fetch_mldata('MNIST original')\n",
    "X = mnist.data\n",
    "y = mnist.target"
   ]
  },
  {
   "cell_type": "markdown",
   "metadata": {},
   "source": [
    "\\vspace{5mm}"
   ]
  },
  {
   "cell_type": "markdown",
   "metadata": {},
   "source": [
    "Now we take only the classes from 1 to 7:"
   ]
  },
  {
   "cell_type": "code",
   "execution_count": 26,
   "metadata": {},
   "outputs": [
    {
     "name": "stdout",
     "output_type": "stream",
     "text": [
      "70000\n",
      "(49314, 784) (49314,)\n"
     ]
    }
   ],
   "source": [
    "delval = [0,8,9]\n",
    "indexremove = []\n",
    "print len(y)\n",
    "for i in range(len(y)):\n",
    "    if y[i] in delval:\n",
    "        indexremove.append(i)\n",
    "y1 = np.delete(y,indexremove)\n",
    "x1 = np.delete(X,indexremove,axis=0)\n",
    "print np.shape(x1),np.shape(y1) "
   ]
  },
  {
   "cell_type": "markdown",
   "metadata": {},
   "source": [
    "\\vspace{5mm}"
   ]
  },
  {
   "cell_type": "markdown",
   "metadata": {},
   "source": [
    "We standardize the data and split it into training, test and validation set:"
   ]
  },
  {
   "cell_type": "code",
   "execution_count": 27,
   "metadata": {},
   "outputs": [
    {
     "name": "stderr",
     "output_type": "stream",
     "text": [
      "/usr/local/lib/python2.7/dist-packages/sklearn/utils/validation.py:420: DataConversionWarning: Data with input dtype uint8 was converted to float64 by the scale function.\n",
      "  warnings.warn(msg, DataConversionWarning)\n"
     ]
    }
   ],
   "source": [
    "X_stan = preprocessing.scale(x1)\n",
    "d = np.column_stack((X_stan, y1))\n",
    "np.random.shuffle(d)\n",
    "train_data = d[:24656]\n",
    "val_data = d[24657:34519]\n",
    "test_data = d[34519:49314]"
   ]
  },
  {
   "cell_type": "markdown",
   "metadata": {},
   "source": [
    "\\vspace{5mm}"
   ]
  },
  {
   "cell_type": "markdown",
   "metadata": {
    "collapsed": true
   },
   "source": [
    "We'll train SVM varying the parameter C"
   ]
  },
  {
   "cell_type": "code",
   "execution_count": 6,
   "metadata": {},
   "outputs": [
    {
     "data": {
      "image/png": "[encoded data removed]",
      "text/plain": [
       "<matplotlib.figure.Figure at 0xa9db87ec>"
      ]
     },
     "metadata": {},
     "output_type": "display_data"
    }
   ],
   "source": [
    "c = [0.000001,0.00001,0.0001,0.001,0.01,0.1,1,10,100]\n",
    "X_train = train_data[:,:784]\n",
    "y_train = train_data[:,784]\n",
    "X_val = val_data[:,:784]\n",
    "y_val = val_data[:,784]\n",
    "X_test = test_data[:,:784]\n",
    "y_test = test_data[:,784]\n",
    "acc_val = []\n",
    "acc_train = []\n",
    "t = []\n",
    "for value in c:\n",
    "    start = timer()\n",
    "    svc = LinearSVC(C = value,dual=False)\n",
    "    svc.fit(X_train,y_train)\n",
    "    end = timer()\n",
    "    accuracy_train = svc.score(X_train,y_train)\n",
    "    accuracy_val = svc.score(X_val,y_val)\n",
    "    acc_val.append(accuracy_val)\n",
    "    acc_train.append(accuracy_train)\n",
    "    t0 = end-start\n",
    "    t.append(t0)\n",
    "mt = sum(t)/len(t)\n",
    "plt.plot(c,acc_train,color='m', label='Accuracy Training Set',marker='o')\n",
    "plt.plot(c,acc_val,color='k', label='Accuracy Validation Set',marker='o')\n",
    "plt.xlabel('Parameter C')\n",
    "plt.ylabel('Accuracy')\n",
    "plt.title('Validation/Training Accuracy Varying C')\n",
    "plt.legend(loc='upper right')\n",
    "sns.set_style(\"darkgrid\")\n",
    "plt.show()"
   ]
  },
  {
   "cell_type": "markdown",
   "metadata": {},
   "source": [
    "\\vspace{5mm}"
   ]
  },
  {
   "cell_type": "markdown",
   "metadata": {},
   "source": [
    "If we zoom the left side we can see the maximum :"
   ]
  },
  {
   "cell_type": "code",
   "execution_count": 12,
   "metadata": {},
   "outputs": [
    {
     "data": {
      "image/png": "[encoded data removed]",
      "text/plain": [
       "<matplotlib.figure.Figure at 0xa2994cac>"
      ]
     },
     "metadata": {},
     "output_type": "display_data"
    }
   ],
   "source": [
    "plt.plot(c,acc_train,color='m', label='Accuracy Training Set',marker='o')\n",
    "plt.plot(c,acc_val,color='k', label='Accuracy Validation Set',marker='o')\n",
    "plt.xlabel('Parameter C')\n",
    "plt.ylabel('Accuracy')\n",
    "plt.xlim(c[0], c[5])\n",
    "plt.title('Validation/Training Accuracy Varying C')\n",
    "plt.legend(loc='upper right')\n",
    "sns.set_style(\"darkgrid\")\n",
    "plt.show()"
   ]
  },
  {
   "cell_type": "markdown",
   "metadata": {},
   "source": [
    "\\vspace{5mm}\n"
   ]
  },
  {
   "cell_type": "markdown",
   "metadata": {},
   "source": [
    "We choose C = 0.01  where achieve the maximum accuracy on the validation set :"
   ]
  },
  {
   "cell_type": "code",
   "execution_count": 28,
   "metadata": {
    "collapsed": true
   },
   "outputs": [],
   "source": [
    "svc = LinearSVC(C = 0.01,dual=False)\n",
    "svc.fit(X_train,y_train)\n",
    "accuracy_test = svc.score(X_test,y_test)"
   ]
  },
  {
   "cell_type": "code",
   "execution_count": 29,
   "metadata": {},
   "outputs": [
    {
     "name": "stdout",
     "output_type": "stream",
     "text": [
      "0.965303038782\n"
     ]
    }
   ],
   "source": [
    "print accuracy_test"
   ]
  },
  {
   "cell_type": "markdown",
   "metadata": {
    "collapsed": true
   },
   "source": [
    "\\vspace{5mm}"
   ]
  },
  {
   "cell_type": "markdown",
   "metadata": {},
   "source": [
    "Now we'll training a multiclass non linear SVM :"
   ]
  },
  {
   "cell_type": "code",
   "execution_count": 4,
   "metadata": {},
   "outputs": [
    {
     "name": "stdout",
     "output_type": "stream",
     "text": [
      "(35735, 784) (35735,)\n"
     ]
    }
   ],
   "source": [
    "delval = [5,6,7,8,9]\n",
    "indexremove = []\n",
    "for i in range(len(y)):\n",
    "    if y[i] in delval:\n",
    "        indexremove.append(i)\n",
    "y1 = np.delete(y,indexremove)\n",
    "x1 = np.delete(X,indexremove,axis=0)\n",
    "print np.shape(x1),np.shape(y1) "
   ]
  },
  {
   "cell_type": "markdown",
   "metadata": {
    "collapsed": true
   },
   "source": [
    "\\vspace{5mm}"
   ]
  },
  {
   "cell_type": "markdown",
   "metadata": {
    "collapsed": true
   },
   "source": [
    "Standardize :"
   ]
  },
  {
   "cell_type": "code",
   "execution_count": null,
   "metadata": {},
   "outputs": [],
   "source": [
    "X_stan = preprocessing.scale(x1)"
   ]
  },
  {
   "cell_type": "markdown",
   "metadata": {},
   "source": [
    "\\vspace{5mm}"
   ]
  },
  {
   "cell_type": "markdown",
   "metadata": {},
   "source": [
    "We'll splitting 50% in test and training set in a stratified way :"
   ]
  },
  {
   "cell_type": "code",
   "execution_count": 12,
   "metadata": {},
   "outputs": [],
   "source": [
    "X_train, X_test, y_train, y_test = train_test_split(X_stan, y1, test_size=.5,stratify=y1)"
   ]
  },
  {
   "cell_type": "markdown",
   "metadata": {},
   "source": [
    "\\vspace{5mm}"
   ]
  },
  {
   "cell_type": "markdown",
   "metadata": {},
   "source": [
    "Stratification it's really important because in our case we split the whole dataset in exactly two parts : one for the training set and the other for the test set. This means that we must to ensure this two sets are representative of all the data. If we don't make this our result can be depends on the particular split of our dataset."
   ]
  },
  {
   "cell_type": "markdown",
   "metadata": {},
   "source": [
    "\\vspace{5mm}"
   ]
  },
  {
   "cell_type": "markdown",
   "metadata": {},
   "source": [
    "And now we'll train the classifier with one-against-all, with gamma and C respectively equals to : 1 and 0.1. With the one-against-all method we consider k classifier where k is the number of classes. The j-th binary classifier separate the data from the class j from the all other classes. Thus in the training phase we have exactly k-optimizations routine. \n",
    "Also we need the decision function for understand in which class belong a generic input data x, for make this we must to find the maximum value of the argument of : $$class\\left ( x \\right ) = \\arg\\underset{1\\leq j\\leq k }{\\max }\\left \\{ w^{j^{T}}\\phi \\left ( x \\right )+ b^{j} \\right \\}$$"
   ]
  },
  {
   "cell_type": "code",
   "execution_count": 7,
   "metadata": {},
   "outputs": [
    {
     "name": "stdout",
     "output_type": "stream",
     "text": [
      "2593.05023909\n"
     ]
    }
   ],
   "source": [
    "nsvm = SVC(C=0.1,kernel='rbf',gamma=1, cache_size = 1400) \n",
    "start = timer()\n",
    "clf = OneVsRestClassifier(nsvm)\n",
    "clf.fit(X_train, y_train)\n",
    "end = timer()\n",
    "print (end-start)"
   ]
  },
  {
   "cell_type": "code",
   "execution_count": 8,
   "metadata": {},
   "outputs": [],
   "source": [
    "acctest = clf.score(X_test,y_test)\n",
    "acctrain = clf.score(X_train,y_train)"
   ]
  },
  {
   "cell_type": "markdown",
   "metadata": {},
   "source": [
    "\\vspace{5mm}\n"
   ]
  },
  {
   "cell_type": "markdown",
   "metadata": {},
   "source": [
    "The accuracy on the test set is:"
   ]
  },
  {
   "cell_type": "code",
   "execution_count": 20,
   "metadata": {},
   "outputs": [
    {
     "name": "stdout",
     "output_type": "stream",
     "text": [
      "0.220437629414 1.0\n"
     ]
    }
   ],
   "source": [
    "print acctest,acctrain"
   ]
  },
  {
   "cell_type": "markdown",
   "metadata": {},
   "source": [
    "\\vspace{5mm}"
   ]
  },
  {
   "cell_type": "markdown",
   "metadata": {},
   "source": [
    "As we can see the test accuracy it's really low, this mean that we have trained the SVM with a bad choose of the parameters also we can see a 100% of correct classification on the training set and for that we overfit the data; infact C equals to 0.1 allows a little penalization of the slack variables and then the optimization problem maximize the margin, this setting of C can be good to avoid overfitting, but i think that our model it's sensible to gamma that in this case is set relatively large. We compute the training routine with stratified 2-fold cross validation (only two because this process takes a while) using also the grid search for find the best hyperparameters for our learning model. The grid search allows to find the best parameters simply computing the training with all the possibile combinations of those, obviusly can be really expensive from computational time point of view, but since this process it's completely indipendent for every choice of the parameters we can parallelize that (it's not the case). "
   ]
  },
  {
   "cell_type": "code",
   "execution_count": 18,
   "metadata": {},
   "outputs": [
    {
     "name": "stdout",
     "output_type": "stream",
     "text": [
      "6628.44622087\n"
     ]
    }
   ],
   "source": [
    "param_grid = {'estimator__C': [1,100,1000],'estimator__gamma': [0.0001,0.001,0.01]}\n",
    "model = OneVsRestClassifier(SVC(kernel='rbf',cache_size = 1600))\n",
    "model_tuning = GridSearchCV(model, param_grid=param_grid,cv=2) \n",
    "start = timer()\n",
    "model_tuning.fit(X_train, y_train)\n",
    "end = timer()\n",
    "t0 = end - start\n",
    "print t0"
   ]
  },
  {
   "cell_type": "markdown",
   "metadata": {},
   "source": [
    "\\vspace{5mm}"
   ]
  },
  {
   "cell_type": "markdown",
   "metadata": {},
   "source": [
    "We take the best hyperparameters :"
   ]
  },
  {
   "cell_type": "code",
   "execution_count": 19,
   "metadata": {},
   "outputs": [
    {
     "name": "stdout",
     "output_type": "stream",
     "text": [
      "0.980969439158\n",
      "{'estimator__C': 100, 'estimator__gamma': 0.001}\n"
     ]
    }
   ],
   "source": [
    "print model_tuning.best_score_\n",
    "print model_tuning.best_params_               "
   ]
  },
  {
   "cell_type": "markdown",
   "metadata": {},
   "source": [
    "\\vspace{5mm}"
   ]
  },
  {
   "cell_type": "markdown",
   "metadata": {},
   "source": [
    "And then compute the accuracy on the test set ( refitting the model on the training set )  :"
   ]
  },
  {
   "cell_type": "code",
   "execution_count": 7,
   "metadata": {},
   "outputs": [
    {
     "data": {
      "text/plain": [
       "0.98628910403492076"
      ]
     },
     "execution_count": 7,
     "metadata": {},
     "output_type": "execute_result"
    }
   ],
   "source": [
    "nsvm = SVC(C=100,kernel='rbf',gamma=0.001, cache_size = 1400)\n",
    "clf = OneVsRestClassifier(nsvm)\n",
    "clf.fit(X_train, y_train)\n",
    "clf.score(X_test, y_test)"
   ]
  },
  {
   "cell_type": "markdown",
   "metadata": {},
   "source": [
    "\\vspace{5mm}"
   ]
  },
  {
   "cell_type": "markdown",
   "metadata": {},
   "source": [
    "Now we achieve a 98% of accuracy on the test set and it is clear that is extremely important tune the hyperparameters for improve the generalization of the model."
   ]
  }
 ],
 "metadata": {
  "kernelspec": {
   "display_name": "Python 3",
   "language": "python",
   "name": "python3"
  },
  "language_info": {
   "codemirror_mode": {
    "name": "ipython",
    "version": 3
   },
   "file_extension": ".py",
   "mimetype": "text/x-python",
   "name": "python",
   "nbconvert_exporter": "python",
   "pygments_lexer": "ipython3",
   "version": "3.6.9"
  }
 },
 "nbformat": 4,
 "nbformat_minor": 1
}
