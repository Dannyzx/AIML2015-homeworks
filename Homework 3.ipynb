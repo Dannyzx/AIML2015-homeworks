{
 "cells": [
  {
   "cell_type": "markdown",
   "metadata": {},
   "source": [
    "NAME : Danny "
   ]
  },
  {
   "cell_type": "markdown",
   "metadata": {},
   "source": [
    "SURNAME : D'Agostino"
   ]
  },
  {
   "cell_type": "markdown",
   "metadata": {},
   "source": [
    "NUMBER : 1247958"
   ]
  },
  {
   "cell_type": "markdown",
   "metadata": {},
   "source": [
    "\\vspace{5mm}\n"
   ]
  },
  {
   "cell_type": "markdown",
   "metadata": {},
   "source": [
    "\\vspace{5mm}\n"
   ]
  },
  {
   "cell_type": "markdown",
   "metadata": {},
   "source": [
    "\\vspace{5mm}\n"
   ]
  },
  {
   "cell_type": "markdown",
   "metadata": {},
   "source": [
    "\\vspace{5mm}\n"
   ]
  },
  {
   "cell_type": "code",
   "execution_count": 138,
   "metadata": {
    "collapsed": true
   },
   "outputs": [],
   "source": [
    "%matplotlib inline\n",
    "from __future__ import division\n",
    "from mlxtend.evaluate import plot_decision_regions\n",
    "from sklearn.cross_validation import StratifiedKFold\n",
    "from sklearn.metrics import accuracy_score\n",
    "from sklearn.metrics import confusion_matrix\n",
    "from sklearn.mixture import GMM\n",
    "from sklearn.datasets import fetch_mldata\n",
    "from sklearn.cluster import KMeans\n",
    "from sklearn.grid_search import GridSearchCV\n",
    "from sklearn import preprocessing\n",
    "from sklearn.cross_validation import train_test_split\n",
    "from sklearn.multiclass import OneVsRestClassifier\n",
    "from sklearn.svm import LinearSVC\n",
    "from sklearn.svm import SVC\n",
    "from sklearn.decomposition import PCA\n",
    "from timeit import default_timer as timer\n",
    "from matplotlib import cm\n",
    "import matplotlib.gridspec as gridspec\n",
    "import matplotlib.pyplot as plt\n",
    "import numpy as np\n",
    "import pandas as pd\n",
    "import seaborn as sns"
   ]
  },
  {
   "cell_type": "markdown",
   "metadata": {},
   "source": [
    "\\vspace{5mm}\n"
   ]
  },
  {
   "cell_type": "markdown",
   "metadata": {},
   "source": [
    "Loading dataset :"
   ]
  },
  {
   "cell_type": "code",
   "execution_count": 2,
   "metadata": {
    "collapsed": true
   },
   "outputs": [],
   "source": [
    "mnist = fetch_mldata('MNIST original')\n",
    "X = mnist.data\n",
    "y = mnist.target"
   ]
  },
  {
   "cell_type": "markdown",
   "metadata": {},
   "source": [
    "\\vspace{5mm}\n"
   ]
  },
  {
   "cell_type": "markdown",
   "metadata": {},
   "source": [
    "Taking only the first five classes :"
   ]
  },
  {
   "cell_type": "code",
   "execution_count": 3,
   "metadata": {},
   "outputs": [
    {
     "name": "stdout",
     "output_type": "stream",
     "text": [
      "70000\n",
      "(35735, 784) (35735,)\n"
     ]
    }
   ],
   "source": [
    "delval = [5,6,7,8,9]\n",
    "indexremove = []\n",
    "print len(y)\n",
    "for i in range(len(y)):\n",
    "    if y[i] in delval:\n",
    "        indexremove.append(i)\n",
    "y1 = np.delete(y,indexremove)\n",
    "x1 = np.delete(X,indexremove,axis=0)\n",
    "print np.shape(x1),np.shape(y1) "
   ]
  },
  {
   "cell_type": "markdown",
   "metadata": {},
   "source": [
    "\\vspace{5mm}\n"
   ]
  },
  {
   "cell_type": "markdown",
   "metadata": {},
   "source": [
    "We take only 200 examples for each class :"
   ]
  },
  {
   "cell_type": "code",
   "execution_count": 4,
   "metadata": {},
   "outputs": [],
   "source": [
    "d = np.column_stack((x1, y1))\n",
    "subset0 = d[d[:,784] == 0]\n",
    "subset0 = subset0[:200]\n",
    "subset1 = d[d[:,784] == 1]\n",
    "subset1 = subset1[:200]\n",
    "subset2 = d[d[:,784] == 2]\n",
    "subset2 = subset2[:200]\n",
    "subset3 = d[d[:,784] == 3]\n",
    "subset3 = subset3[:200]\n",
    "subset4 = d[d[:,784] == 4]\n",
    "subset4 = subset4[:200] \n",
    "m = np.concatenate((subset0,subset1,subset2,subset3,subset4), axis=0)\n",
    "X = m[:,:784]\n",
    "X_stan = preprocessing.scale(X)"
   ]
  },
  {
   "cell_type": "code",
   "execution_count": 134,
   "metadata": {},
   "outputs": [],
   "source": [
    "y_n = m[:,784]"
   ]
  },
  {
   "cell_type": "markdown",
   "metadata": {},
   "source": [
    "\\vspace{5mm}\n"
   ]
  },
  {
   "cell_type": "markdown",
   "metadata": {},
   "source": [
    "Computing clustering with K = 5 : "
   ]
  },
  {
   "cell_type": "code",
   "execution_count": 160,
   "metadata": {},
   "outputs": [
    {
     "data": {
      "text/plain": [
       "KMeans(copy_x=True, init='random', max_iter=300, n_clusters=5, n_init=10,\n",
       "    n_jobs=1, precompute_distances='auto', random_state=None, tol=0.0001,\n",
       "    verbose=0)"
      ]
     },
     "execution_count": 160,
     "metadata": {},
     "output_type": "execute_result"
    }
   ],
   "source": [
    "clusterer = KMeans(n_clusters=5,init='random')\n",
    "clusterer.fit(X_stan)"
   ]
  },
  {
   "cell_type": "markdown",
   "metadata": {},
   "source": [
    "\\vspace{5mm}"
   ]
  },
  {
   "cell_type": "markdown",
   "metadata": {},
   "source": [
    "Now we plot the centroids:"
   ]
  },
  {
   "cell_type": "code",
   "execution_count": 229,
   "metadata": {},
   "outputs": [
    {
     "data": {
      "image/png": "[encoded data removed]",
      "text/plain": [
       "<matplotlib.figure.Figure at 0xa7092c2c>"
      ]
     },
     "metadata": {},
     "output_type": "display_data"
    }
   ],
   "source": [
    "gs = gridspec.GridSpec(1, 5)\n",
    "for i,j in enumerate(clusterer.cluster_centers_):\n",
    "    plt.subplot(gs[i])\n",
    "    im=np.reshape(j, (28, 28))\n",
    "    iview = plt.imshow(im)\n",
    "plt.tight_layout() "
   ]
  },
  {
   "cell_type": "markdown",
   "metadata": {},
   "source": [
    "\\vspace{5mm}"
   ]
  },
  {
   "cell_type": "markdown",
   "metadata": {},
   "source": [
    "The same thing for K = 10 and K = 3"
   ]
  },
  {
   "cell_type": "code",
   "execution_count": 234,
   "metadata": {},
   "outputs": [
    {
     "data": {
      "image/png": "[encoded data removed]",
      "text/plain": [
       "<matplotlib.figure.Figure at 0xa41ca94c>"
      ]
     },
     "metadata": {},
     "output_type": "display_data"
    }
   ],
   "source": [
    "clusterer = KMeans(n_clusters=10,init='random')\n",
    "clusterer.fit(X_stan)\n",
    "gs = gridspec.GridSpec(2, 5)\n",
    "for i,j in enumerate(clusterer.cluster_centers_):\n",
    "    plt.subplot(gs[i])\n",
    "    im=np.reshape(j, (28, 28))\n",
    "    iview = plt.imshow(im)\n",
    "plt.tight_layout() "
   ]
  },
  {
   "cell_type": "code",
   "execution_count": 235,
   "metadata": {},
   "outputs": [
    {
     "data": {
      "image/png": "[encoded data removed]",
      "text/plain": [
       "<matplotlib.figure.Figure at 0xa7f058cc>"
      ]
     },
     "metadata": {},
     "output_type": "display_data"
    }
   ],
   "source": [
    "clusterer = KMeans(n_clusters=3,init='random')\n",
    "clusterer.fit(X_stan)\n",
    "gs = gridspec.GridSpec(1, 3)\n",
    "for i,j in enumerate(clusterer.cluster_centers_):\n",
    "    plt.subplot(gs[i])\n",
    "    im=np.reshape(j, (28, 28))\n",
    "    iview = plt.imshow(im)\n",
    "plt.tight_layout() "
   ]
  },
  {
   "cell_type": "markdown",
   "metadata": {},
   "source": [
    "\\vspace{5mm}"
   ]
  },
  {
   "cell_type": "markdown",
   "metadata": {},
   "source": [
    "K-means it's one of the most famous clustering algorithm ; clustering algorithm involve to solve the problem of identyfing groups of data point in multidimensional space. And for every cluster/group we have the centroid, that is the representative point of all the points in that cluster. In our case we have five different groups of data point and if we compute K-means with K = 5, we can think that plotting the centroids we will have as a result all the five different digit 0,1,2,3 and 4. This is in general not true infact if we try to look at the centroids for K = 5, i can clearly recognize only the 0,3,1 and maybe the last one can be a 4, but i don't see the 2 representative. This because K-means algorithm most of time can only converge at a local minimum. "
   ]
  },
  {
   "cell_type": "markdown",
   "metadata": {},
   "source": [
    "\\vspace{5mm}"
   ]
  },
  {
   "cell_type": "markdown",
   "metadata": {},
   "source": [
    "Now computing clustering with GMM and evauate the clusters quality with purity. The purity is a measure for understand the quality of our cluster, and it is defined as : $$Purity = \\frac{1}{N}\\sum_{i = 1}^{k} \\max_{j}\\left | c_{i}\\cap t_{j} \\right |$$\n",
    "where N is the number of data points, k the number of clusters, c is a cluster in C, and t is the classification which has the max count for cluster c. :"
   ]
  },
  {
   "cell_type": "code",
   "execution_count": 184,
   "metadata": {},
   "outputs": [
    {
     "name": "stdout",
     "output_type": "stream",
     "text": [
      "[[  2 198   0   0   0]\n",
      " [  8 192   0   0   0]\n",
      " [ 78 122   0   0   0]\n",
      " [ 60 140   0   0   0]\n",
      " [ 58 142   0   0   0]]\n",
      "[[188  12   0   0   0]\n",
      " [188   2  10   0   0]\n",
      " [ 92  44  64   0   0]\n",
      " [112  41  47   0   0]\n",
      " [128  56  16   0   0]]\n",
      "[[  2   7  17 174   0]\n",
      " [  1 190   9   0   0]\n",
      " [ 46  70  84   0   0]\n",
      " [ 21  69 105   5   0]\n",
      " [105  30  61   4   0]]\n",
      "[[  7   0  14   6 173]\n",
      " [193   1   5   1   0]\n",
      " [ 27  24  70  78   1]\n",
      " [ 53   6  93  36  12]\n",
      " [ 42 129   6  22   1]]\n",
      "[[  2 141  46  10   0   1]\n",
      " [190   0   5   3   1   1]\n",
      " [ 19   1  57  24  19  80]\n",
      " [ 22   0  31 121   2  24]\n",
      " [ 12   1   9   8 150  20]\n",
      " [  0   0   0   0   0   0]]\n",
      "[[ 11   6 157   1   2  23   0]\n",
      " [  1   1   0   0  40   2 156]\n",
      " [ 18  82   0  12  24  64   0]\n",
      " [113  20   1   5  44  17   0]\n",
      " [ 39  12   0  84  27  23  15]\n",
      " [  0   0   0   0   0   0   0]\n",
      " [  0   0   0   0   0   0   0]]\n",
      "[[  0 110   0   9   1   0   4  76]\n",
      " [  2   0   1  25   0 172   0   0]\n",
      " [ 16   1  56  35  10   3  78   1]\n",
      " [  3   4  22  55  99   4  13   0]\n",
      " [140   1  20  27   0   2   7   3]\n",
      " [  0   0   0   0   0   0   0   0]\n",
      " [  0   0   0   0   0   0   0   0]\n",
      " [  0   0   0   0   0   0   0   0]]\n",
      "[[  1 103   2  85   2   0   0   7   0]\n",
      " [  0   0   2   0   0 150   0  47   1]\n",
      " [  5   1  75   0  70   4  10  25  10]\n",
      " [108   4  21   0   9   0  10  44   4]\n",
      " [  0   1   2   0   7   2  25  23 140]\n",
      " [  0   0   0   0   0   0   0   0   0]\n",
      " [  0   0   0   0   0   0   0   0   0]\n",
      " [  0   0   0   0   0   0   0   0   0]\n",
      " [  0   0   0   0   0   0   0   0   0]]\n",
      "[[  0   0  86   0   0 100   0   7   2   5]\n",
      " [  0   1   0 139   1   0   2   1  56   0]\n",
      " [  6  16   1   2  10   1  80   3  24  57]\n",
      " [ 15  83   0   0   3   5   8  39  34  13]\n",
      " [ 24   0   1   3 107   4  10  25  17   9]\n",
      " [  0   0   0   0   0   0   0   0   0   0]\n",
      " [  0   0   0   0   0   0   0   0   0   0]\n",
      " [  0   0   0   0   0   0   0   0   0   0]\n",
      " [  0   0   0   0   0   0   0   0   0   0]\n",
      " [  0   0   0   0   0   0   0   0   0   0]]\n"
     ]
    },
    {
     "data": {
      "image/png": "[encoded data removed]",
      "text/plain": [
       "<matplotlib.figure.Figure at 0x8870ca2c>"
      ]
     },
     "metadata": {},
     "output_type": "display_data"
    }
   ],
   "source": [
    "comp = [2,3,4,5,6,7,8,9,10]\n",
    "p=[]\n",
    "for j in comp:\n",
    "    clusterer = GMM(n_components=j,covariance_type='diag')\n",
    "    clusterer.fit(X_stan)\n",
    "    cluster_labels = clusterer.predict(X_stan)\n",
    "    c_matrix = confusion_matrix(y_n, cluster_labels)\n",
    "    purity = 0\n",
    "    l = []\n",
    "    print c_matrix\n",
    "    for k in c_matrix:\n",
    "        m = max(k)\n",
    "        l.append(m)\n",
    "    purity = sum(l)/len(cluster_labels)\n",
    "    p.append(purity)\n",
    "plt.plot(comp,p,color='m',marker='o')\n",
    "plt.xlabel('# Clusters')\n",
    "plt.ylabel('Purity')\n",
    "plt.title('')\n",
    "plt.legend(loc='lower right')\n",
    "sns.set_style(\"darkgrid\")\n",
    "plt.show()"
   ]
  },
  {
   "cell_type": "markdown",
   "metadata": {},
   "source": [
    "\\vspace{5mm}"
   ]
  },
  {
   "cell_type": "markdown",
   "metadata": {},
   "source": [
    "Above we calculate the purity as the sum of the maximum value of each row in the confusion matrix, divided by the total number of data points. From this type of analysis we can evaluate that : if two element are considered similar they will on the same cluster. If we look at the confusion matrix when the number of the cluster are two, it's clear that most of elements (for each class) are considered similar and they stay on the same cluster, and also we achieve the maximum purity. More insteresting if we see the confusion matrix for # cluster equal to six where most of the elements stay only on five ( different cluster for each class ) of the six clusters, and this repartition is coherent with the avaiable knowledge of our dataset."
   ]
  },
  {
   "cell_type": "markdown",
   "metadata": {},
   "source": [
    "\\vspace{5mm}"
   ]
  },
  {
   "cell_type": "markdown",
   "metadata": {},
   "source": [
    "Now we construct GMM model for classification. We split the data set in 50% training, 25% test set and 25% validation set : "
   ]
  },
  {
   "cell_type": "code",
   "execution_count": 163,
   "metadata": {},
   "outputs": [],
   "source": [
    "c0 = preprocessing.scale(subset0)\n",
    "c1 = preprocessing.scale(subset1)\n",
    "c2 = preprocessing.scale(subset2)\n",
    "c3 = preprocessing.scale(subset3)\n",
    "c4 = preprocessing.scale(subset4)\n",
    "tr0 = c0[0:100]\n",
    "te0 = c0[100:150]\n",
    "tv0 = c0[100:150]\n",
    "tr1 = c1[0:100]\n",
    "te1 = c1[100:150]\n",
    "tv1 = c1[150:200]\n",
    "tr2 = c2[0:100]\n",
    "te2 = c2[100:150]\n",
    "tv2 = c2[150:200]\n",
    "tr3 = c3[0:100]\n",
    "te3 = c3[100:150]\n",
    "tv3 = c3[150:200]\n",
    "tr4 = c4[0:100]\n",
    "te4 = c4[100:150]\n",
    "tv4 = c4[150:200]\n",
    "xval = np.concatenate((tv0,tv1,tv2,tv3,tv4), axis=0)\n",
    "xtes = np.concatenate((te0,te1,te2,te3,te4), axis=0)"
   ]
  },
  {
   "cell_type": "markdown",
   "metadata": {},
   "source": [
    "\\vspace{5mm}"
   ]
  },
  {
   "cell_type": "markdown",
   "metadata": {},
   "source": [
    "We fit the GMM for each class and for every test point we evaluate the log-likelihood, and decide the class label for which the test point achieve the maximum."
   ]
  },
  {
   "cell_type": "code",
   "execution_count": 164,
   "metadata": {},
   "outputs": [],
   "source": [
    "mixcomp = [2,3,4,5]\n",
    "clx = [tr0,tr1,tr2,tr3,tr4]\n",
    "ypr=[]\n",
    "yy = []\n",
    "for nmix in mixcomp:\n",
    "    clusterer = GMM(n_components=nmix,covariance_type='diag')\n",
    "    clusterer.fit(tr0)\n",
    "    k0 = clusterer.score_samples(xval)\n",
    "    k0 = k0[0].tolist()\n",
    "    clusterer.fit(tr1)\n",
    "    k1 = clusterer.score_samples(xval)\n",
    "    k1 = k1[0].tolist()\n",
    "    clusterer.fit(tr2)\n",
    "    k2 = clusterer.score_samples(xval)\n",
    "    k2 = k2[0].tolist()\n",
    "    clusterer.fit(tr3)\n",
    "    k3 = clusterer.score_samples(xval)\n",
    "    k3 = k3[0].tolist()\n",
    "    clusterer.fit(tr4)\n",
    "    k4 = clusterer.score_samples(xval)\n",
    "    k4 = k4[0].tolist()\n",
    "    ypr=[]\n",
    "    for i in range(len(k0)):\n",
    "        if k0[i] > k1[i] and k0[i] > k2[i] and k0[i] > k3[i] and k0[i] > k4[i]:\n",
    "            ypr.append(0)\n",
    "        if k0[i] < k1[i] and k1[i] > k2[i] and k1[i] > k3[i] and k1[i] > k4[i]:\n",
    "            ypr.append(1)\n",
    "        if k0[i] < k2[i] and k1[i] < k2[i] and k2[i] > k3[i] and k2[i] > k4[i]:\n",
    "            ypr.append(2)\n",
    "        if k0[i] < k3[i] and k1[i] < k3[i] and k2[i] < k3[i] and k3[i] > k4[i]:\n",
    "            ypr.append(3)\n",
    "        if k0[i] < k4[i] and k1[i] < k4[i] and k2[i] < k4[i] and k3[i] < k4[i]:\n",
    "            ypr.append(4)\n",
    "    yy.append(ypr)"
   ]
  },
  {
   "cell_type": "markdown",
   "metadata": {},
   "source": [
    "\\vspace{5mm}"
   ]
  },
  {
   "cell_type": "markdown",
   "metadata": {},
   "source": [
    "I need to recreate the target array for compute the accuracy on the validation set : "
   ]
  },
  {
   "cell_type": "code",
   "execution_count": 168,
   "metadata": {},
   "outputs": [
    {
     "name": "stdout",
     "output_type": "stream",
     "text": [
      "0.804\n",
      "0.816\n",
      "0.824\n",
      "0.812\n"
     ]
    }
   ],
   "source": [
    "y_true = []\n",
    "for z in [0,1,2,3,4] :\n",
    "    for k in range(50):\n",
    "        y_true.append(z)\n",
    "for k in yy:\n",
    "    print accuracy_score(y_true, k)"
   ]
  },
  {
   "cell_type": "markdown",
   "metadata": {},
   "source": [
    "\\vspace{5mm}"
   ]
  },
  {
   "cell_type": "markdown",
   "metadata": {},
   "source": [
    "We achieve the maximum accuracy when the numbers of the component are 4, and we compute the accuracy on the test set:"
   ]
  },
  {
   "cell_type": "code",
   "execution_count": 169,
   "metadata": {},
   "outputs": [
    {
     "name": "stdout",
     "output_type": "stream",
     "text": [
      "0.78\n"
     ]
    }
   ],
   "source": [
    "clusterer = GMM(n_components=nmix,covariance_type='diag')\n",
    "clusterer.fit(tr0)\n",
    "k0 = clusterer.score_samples(xtes)\n",
    "k0 = k0[0].tolist()\n",
    "clusterer.fit(tr1)\n",
    "k1 = clusterer.score_samples(xtes)\n",
    "k1 = k1[0].tolist()\n",
    "clusterer.fit(tr2)\n",
    "k2 = clusterer.score_samples(xtes)\n",
    "k2 = k2[0].tolist()\n",
    "clusterer.fit(tr3)\n",
    "k3 = clusterer.score_samples(xtes)\n",
    "k3 = k3[0].tolist()\n",
    "clusterer.fit(tr4)\n",
    "k4 = clusterer.score_samples(xtes)\n",
    "k4 = k4[0].tolist()\n",
    "ypr=[]\n",
    "for i in range(len(k0)):\n",
    "    if k0[i] > k1[i] and k0[i] > k2[i] and k0[i] > k3[i] and k0[i] > k4[i]:\n",
    "        ypr.append(0)\n",
    "    if k0[i] < k1[i] and k1[i] > k2[i] and k1[i] > k3[i] and k1[i] > k4[i]:\n",
    "        ypr.append(1)\n",
    "    if k0[i] < k2[i] and k1[i] < k2[i] and k2[i] > k3[i] and k2[i] > k4[i]:\n",
    "        ypr.append(2)\n",
    "    if k0[i] < k3[i] and k1[i] < k3[i] and k2[i] < k3[i] and k3[i] > k4[i]:\n",
    "        ypr.append(3)\n",
    "    if k0[i] < k4[i] and k1[i] < k4[i] and k2[i] < k4[i] and k3[i] < k4[i]:\n",
    "        ypr.append(4)\n",
    "print accuracy_score(y_true, ypr)"
   ]
  },
  {
   "cell_type": "markdown",
   "metadata": {},
   "source": [
    "\\vspace{5mm}"
   ]
  },
  {
   "cell_type": "markdown",
   "metadata": {},
   "source": [
    "GMM classifier and SVM are completely different methods for classify data. The first is a generative model the second it's discriminative. \n",
    "With GMM as a classifier to determine the class of the digit, the 'machine' learn how digit is for each class and after determine in which class the digit belong. With SVM we have a much simple approach infact we determine the difference between every digits, without learning how is the digit for every specific class. Also, another important difference, is that the SVM don't estimate any probabilities, and much important, don't make any considerations about the density distribution of the data. But in general, discriminative approaches suffer the problem to overfit the data, but the SVM, if the hyperparameters are tuned well, don't have any problem with overfitting, because are 'created' for minimize the structural risk instead the empirical risk like in the neural networks model, and in this case SVM achieve an accuracy greater than GMM on the test set (but this result cannot be really significant because the size of the training and test set is different for the two classifier, but we can say that SVM is one of the best learning algorithm for classify data). "
   ]
  }
 ],
 "metadata": {
  "kernelspec": {
   "display_name": "Python 3",
   "language": "python",
   "name": "python3"
  },
  "language_info": {
   "codemirror_mode": {
    "name": "ipython",
    "version": 3
   },
   "file_extension": ".py",
   "mimetype": "text/x-python",
   "name": "python",
   "nbconvert_exporter": "python",
   "pygments_lexer": "ipython3",
   "version": "3.6.9"
  }
 },
 "nbformat": 4,
 "nbformat_minor": 1
}
